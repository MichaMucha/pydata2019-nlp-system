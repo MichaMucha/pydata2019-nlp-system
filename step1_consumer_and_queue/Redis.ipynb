{
 "cells": [
  {
   "cell_type": "markdown",
   "metadata": {},
   "source": [
    "# Download image"
   ]
  },
  {
   "cell_type": "code",
   "execution_count": null,
   "metadata": {},
   "outputs": [],
   "source": [
    "!docker pull redis:alpine"
   ]
  },
  {
   "cell_type": "markdown",
   "metadata": {},
   "source": [
    "# Run it "
   ]
  },
  {
   "cell_type": "code",
   "execution_count": 1,
   "metadata": {},
   "outputs": [
    {
     "name": "stdout",
     "output_type": "stream",
     "text": [
      "e979e54fa06f72ed00ae9f9a1167c970a0f978b6b1c067d6faad1e1a3c3c3c84\n"
     ]
    }
   ],
   "source": [
    "!docker run -p 6379:6379 --name delicious-redis -d redis:alpine"
   ]
  },
  {
   "cell_type": "markdown",
   "metadata": {},
   "source": [
    "# Lookup and stop "
   ]
  },
  {
   "cell_type": "code",
   "execution_count": 2,
   "metadata": {},
   "outputs": [
    {
     "name": "stdout",
     "output_type": "stream",
     "text": [
      "CONTAINER ID        IMAGE                                    COMMAND                  CREATED             STATUS              PORTS                                      NAMES\n",
      "e979e54fa06f        redis:alpine                             \"docker-entrypoint.s…\"   About an hour ago   Up About an hour    0.0.0.0:6379->6379/tcp                     delicious-redis\n",
      "e51807064d7a        portainer/portainer                      \"/portainer\"             3 months ago        Up 4 weeks          9000/tcp                                   portainer_managed_portainer_1\n",
      "eddbfdd3f1ea        jrcs/letsencrypt-nginx-proxy-companion   \"/bin/bash /app/entr…\"   3 months ago        Up 4 weeks                                                     portainer_managed_letsencrypt_1\n",
      "f3a149daef62        nginx                                    \"nginx -g 'daemon of…\"   3 months ago        Up 4 weeks          0.0.0.0:80->80/tcp, 0.0.0.0:443->443/tcp   nginx\n",
      "29be8e282d1f        jwilder/docker-gen                       \"/usr/local/bin/dock…\"   3 months ago        Up 4 weeks                                                     docker-gen\n"
     ]
    }
   ],
   "source": [
    "!docker ps"
   ]
  },
  {
   "cell_type": "code",
   "execution_count": null,
   "metadata": {},
   "outputs": [],
   "source": [
    "!docker stop e979e54fa06f"
   ]
  },
  {
   "cell_type": "code",
   "execution_count": null,
   "metadata": {},
   "outputs": [],
   "source": []
  }
 ],
 "metadata": {
  "kernelspec": {
   "display_name": "Python 3",
   "language": "python",
   "name": "python3"
  },
  "language_info": {
   "codemirror_mode": {
    "name": "ipython",
    "version": 3
   },
   "file_extension": ".py",
   "mimetype": "text/x-python",
   "name": "python",
   "nbconvert_exporter": "python",
   "pygments_lexer": "ipython3",
   "version": "3.7.3"
  }
 },
 "nbformat": 4,
 "nbformat_minor": 2
}
