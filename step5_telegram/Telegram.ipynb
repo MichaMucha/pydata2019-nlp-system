{
 "cells": [
  {
   "cell_type": "code",
   "execution_count": 1,
   "metadata": {},
   "outputs": [
    {
     "name": "stdout",
     "output_type": "stream",
     "text": [
      "INFO:aiogram:Bot: reddit_streamer [@reddit_streaming_bot]\n",
      "WARNING:aiogram:Updates are skipped successfully.\n",
      "INFO:aiogram.dispatcher.dispatcher:Start polling.\n",
      "^C\n",
      "INFO:aiogram.dispatcher.dispatcher:Stop polling...\n",
      "WARNING:aiogram:Goodbye!\n"
     ]
    }
   ],
   "source": [
    "!python echobot.py"
   ]
  },
  {
   "cell_type": "code",
   "execution_count": 2,
   "metadata": {},
   "outputs": [
    {
     "name": "stdout",
     "output_type": "stream",
     "text": [
      "1it [01:13, 73.66s/it]Traceback (most recent call last):\n",
      "  File \"/Developer/anaconda3/envs/nlp-workshop/lib/python3.7/site-packages/redis/connection.py\", line 185, in _read_from_socket\n",
      "    raise socket.error(SERVER_CLOSED_CONNECTION_ERROR)\n",
      "OSError: Connection closed by server.\n",
      "\n",
      "During handling of the above exception, another exception occurred:\n",
      "\n",
      "Traceback (most recent call last):\n",
      "  File \"publisher.py\", line 60, in <module>\n",
      "    main()\n",
      "  File \"publisher.py\", line 39, in main\n",
      "    fire.Fire(TelegramPublisher)\n",
      "  File \"/Developer/anaconda3/envs/nlp-workshop/lib/python3.7/site-packages/fire/core.py\", line 127, in Fire\n",
      "    component_trace = _Fire(component, args, context, name)\n",
      "  File \"/Developer/anaconda3/envs/nlp-workshop/lib/python3.7/site-packages/fire/core.py\", line 366, in _Fire\n",
      "    component, remaining_args)\n",
      "  File \"/Developer/anaconda3/envs/nlp-workshop/lib/python3.7/site-packages/fire/core.py\", line 542, in _CallCallable\n",
      "    result = fn(*varargs, **kwargs)\n",
      "  File \"publisher.py\", line 48, in publish\n",
      "    loop.run_until_complete(task)\n",
      "  File \"uvloop/loop.pyx\", line 1451, in uvloop.loop.Loop.run_until_complete\n",
      "  File \"publisher.py\", line 35, in subscribe_and_listen\n",
      "    async for message in listen(channel_name):\n",
      "  File \"publisher.py\", line 30, in listen\n",
      "    for message in tqdm(p.listen()):\n",
      "  File \"/Developer/anaconda3/envs/nlp-workshop/lib/python3.7/site-packages/tqdm/_tqdm.py\", line 1017, in __iter__\n",
      "    for obj in iterable:\n",
      "  File \"/Developer/anaconda3/envs/nlp-workshop/lib/python3.7/site-packages/redis/client.py\", line 3123, in listen\n",
      "    response = self.handle_message(self.parse_response(block=True))\n",
      "  File \"/Developer/anaconda3/envs/nlp-workshop/lib/python3.7/site-packages/redis/client.py\", line 3036, in parse_response\n",
      "    return self._execute(connection, connection.read_response)\n",
      "  File \"/Developer/anaconda3/envs/nlp-workshop/lib/python3.7/site-packages/redis/client.py\", line 3013, in _execute\n",
      "    return command(*args)\n",
      "  File \"/Developer/anaconda3/envs/nlp-workshop/lib/python3.7/site-packages/redis/connection.py\", line 637, in read_response\n",
      "    response = self._parser.read_response()\n",
      "  File \"/Developer/anaconda3/envs/nlp-workshop/lib/python3.7/site-packages/redis/connection.py\", line 290, in read_response\n",
      "    response = self._buffer.readline()\n",
      "  File \"/Developer/anaconda3/envs/nlp-workshop/lib/python3.7/site-packages/redis/connection.py\", line 224, in readline\n",
      "    self._read_from_socket()\n",
      "  File \"/Developer/anaconda3/envs/nlp-workshop/lib/python3.7/site-packages/redis/connection.py\", line 199, in _read_from_socket\n",
      "    (e.args,))\n",
      "redis.exceptions.ConnectionError: Error while reading from socket: ('Connection closed by server.',)\n",
      "\n"
     ]
    }
   ],
   "source": [
    "!python publisher.py publish"
   ]
  },
  {
   "cell_type": "code",
   "execution_count": null,
   "metadata": {},
   "outputs": [],
   "source": []
  }
 ],
 "metadata": {
  "kernelspec": {
   "display_name": "Python 3",
   "language": "python",
   "name": "python3"
  },
  "language_info": {
   "codemirror_mode": {
    "name": "ipython",
    "version": 3
   },
   "file_extension": ".py",
   "mimetype": "text/x-python",
   "name": "python",
   "nbconvert_exporter": "python",
   "pygments_lexer": "ipython3",
   "version": "3.7.3"
  }
 },
 "nbformat": 4,
 "nbformat_minor": 2
}
