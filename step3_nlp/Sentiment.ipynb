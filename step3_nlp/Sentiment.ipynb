{
 "cells": [
  {
   "cell_type": "raw",
   "metadata": {},
   "source": [
    ">>> import fastai\n",
    ">>> fastai.__version__\n",
    "'1.0.54'"
   ]
  },
  {
   "cell_type": "code",
   "execution_count": 10,
   "metadata": {},
   "outputs": [
    {
     "name": "stdout",
     "output_type": "stream",
     "text": [
      "Collecting fastai\n",
      "  Using cached https://files.pythonhosted.org/packages/7d/14/385382da888f7e3ba24c726d95ea05563eb5e984ed97d5a24e74197f7848/fastai-1.0.54-py3-none-any.whl\n",
      "Requirement already satisfied, skipping upgrade: pandas in /Developer/anaconda3/lib/python3.6/site-packages (from fastai) (0.24.2)\n",
      "Requirement already satisfied, skipping upgrade: pyyaml in /Developer/anaconda3/lib/python3.6/site-packages (from fastai) (3.13)\n",
      "Requirement already satisfied, skipping upgrade: dataclasses; python_version < \"3.7\" in /Developer/anaconda3/lib/python3.6/site-packages (from fastai) (0.6)\n",
      "Requirement already satisfied, skipping upgrade: bottleneck in /Developer/anaconda3/lib/python3.6/site-packages (from fastai) (1.2.1)\n",
      "Requirement already satisfied, skipping upgrade: torchvision in /Developer/anaconda3/lib/python3.6/site-packages/torchvision-0.2.1-py3.6.egg (from fastai) (0.2.1)\n",
      "Requirement already satisfied, skipping upgrade: spacy>=2.0.18 in /Developer/anaconda3/lib/python3.6/site-packages (from fastai) (2.1.1)\n",
      "Requirement already satisfied, skipping upgrade: matplotlib in /Developer/anaconda3/lib/python3.6/site-packages (from fastai) (2.2.3)\n",
      "Requirement already satisfied, skipping upgrade: torch>=1.0.0 in /Developer/anaconda3/lib/python3.6/site-packages (from fastai) (1.0.1.post2)\n",
      "Requirement already satisfied, skipping upgrade: fastprogress>=0.1.19 in /Developer/anaconda3/lib/python3.6/site-packages (from fastai) (0.1.20)\n",
      "Requirement already satisfied, skipping upgrade: scipy in /Developer/anaconda3/lib/python3.6/site-packages (from fastai) (1.1.0)\n",
      "Requirement already satisfied, skipping upgrade: beautifulsoup4 in /Developer/anaconda3/lib/python3.6/site-packages (from fastai) (4.6.3)\n",
      "Requirement already satisfied, skipping upgrade: numexpr in /Developer/anaconda3/lib/python3.6/site-packages (from fastai) (2.6.8)\n",
      "Requirement already satisfied, skipping upgrade: nvidia-ml-py3 in /Developer/anaconda3/lib/python3.6/site-packages (from fastai) (7.352.0)\n",
      "Requirement already satisfied, skipping upgrade: Pillow in /Developer/anaconda3/lib/python3.6/site-packages (from fastai) (5.3.0)\n",
      "Requirement already satisfied, skipping upgrade: requests in /Developer/anaconda3/lib/python3.6/site-packages (from fastai) (2.20.1)\n",
      "Requirement already satisfied, skipping upgrade: typing in /Developer/anaconda3/lib/python3.6/site-packages (from fastai) (3.6.4)\n",
      "Requirement already satisfied, skipping upgrade: pynvx>=1.0.0; platform_system == \"Darwin\" in /Developer/anaconda3/lib/python3.6/site-packages (from fastai) (1.0.0)\n",
      "Requirement already satisfied, skipping upgrade: packaging in /Developer/anaconda3/lib/python3.6/site-packages (from fastai) (18.0)\n",
      "Requirement already satisfied, skipping upgrade: numpy>=1.15 in /Developer/anaconda3/lib/python3.6/site-packages (from fastai) (1.16.0)\n",
      "Requirement already satisfied, skipping upgrade: pytz>=2011k in /Developer/anaconda3/lib/python3.6/site-packages (from pandas->fastai) (2017.3)\n",
      "Requirement already satisfied, skipping upgrade: python-dateutil>=2.5.0 in /Developer/anaconda3/lib/python3.6/site-packages (from pandas->fastai) (2.7.5)\n",
      "Requirement already satisfied, skipping upgrade: six in /Developer/anaconda3/lib/python3.6/site-packages (from torchvision->fastai) (1.12.0)\n",
      "Requirement already satisfied, skipping upgrade: srsly<1.1.0,>=0.0.5 in /Developer/anaconda3/lib/python3.6/site-packages (from spacy>=2.0.18->fastai) (0.0.5)\n",
      "Requirement already satisfied, skipping upgrade: preshed<2.1.0,>=2.0.1 in /Developer/anaconda3/lib/python3.6/site-packages (from spacy>=2.0.18->fastai) (2.0.1)\n",
      "Requirement already satisfied, skipping upgrade: jsonschema<3.0.0,>=2.6.0 in /Developer/anaconda3/lib/python3.6/site-packages (from spacy>=2.0.18->fastai) (2.6.0)\n",
      "Requirement already satisfied, skipping upgrade: plac<1.0.0,>=0.9.6 in /Developer/anaconda3/lib/python3.6/site-packages (from spacy>=2.0.18->fastai) (0.9.6)\n",
      "Requirement already satisfied, skipping upgrade: thinc<7.1.0,>=7.0.2 in /Developer/anaconda3/lib/python3.6/site-packages (from spacy>=2.0.18->fastai) (7.0.4)\n",
      "Requirement already satisfied, skipping upgrade: wasabi<1.1.0,>=0.0.12 in /Developer/anaconda3/lib/python3.6/site-packages (from spacy>=2.0.18->fastai) (0.1.4)\n",
      "Requirement already satisfied, skipping upgrade: blis<0.3.0,>=0.2.2 in /Developer/anaconda3/lib/python3.6/site-packages (from spacy>=2.0.18->fastai) (0.2.4)\n",
      "Requirement already satisfied, skipping upgrade: murmurhash<1.1.0,>=0.28.0 in /Developer/anaconda3/lib/python3.6/site-packages (from spacy>=2.0.18->fastai) (1.0.2)\n",
      "Requirement already satisfied, skipping upgrade: cymem<2.1.0,>=2.0.2 in /Developer/anaconda3/lib/python3.6/site-packages (from spacy>=2.0.18->fastai) (2.0.2)\n",
      "Requirement already satisfied, skipping upgrade: pyparsing!=2.0.4,!=2.1.2,!=2.1.6,>=2.0.1 in /Developer/anaconda3/lib/python3.6/site-packages (from matplotlib->fastai) (2.3.0)\n",
      "Requirement already satisfied, skipping upgrade: cycler>=0.10 in /Developer/anaconda3/lib/python3.6/site-packages (from matplotlib->fastai) (0.10.0)\n",
      "Requirement already satisfied, skipping upgrade: kiwisolver>=1.0.1 in /Developer/anaconda3/lib/python3.6/site-packages (from matplotlib->fastai) (1.0.1)\n",
      "Requirement already satisfied, skipping upgrade: certifi>=2017.4.17 in /Developer/anaconda3/lib/python3.6/site-packages (from requests->fastai) (2019.6.16)\n",
      "Requirement already satisfied, skipping upgrade: idna<2.8,>=2.5 in /Developer/anaconda3/lib/python3.6/site-packages (from requests->fastai) (2.7)\n",
      "Requirement already satisfied, skipping upgrade: urllib3<1.25,>=1.21.1 in /Developer/anaconda3/lib/python3.6/site-packages (from requests->fastai) (1.23)\n",
      "Requirement already satisfied, skipping upgrade: chardet<3.1.0,>=3.0.2 in /Developer/anaconda3/lib/python3.6/site-packages (from requests->fastai) (3.0.4)\n",
      "Requirement already satisfied, skipping upgrade: tqdm<5.0.0,>=4.10.0 in /Developer/anaconda3/lib/python3.6/site-packages (from thinc<7.1.0,>=7.0.2->spacy>=2.0.18->fastai) (4.28.1)\n",
      "Requirement already satisfied, skipping upgrade: setuptools in /Developer/anaconda3/lib/python3.6/site-packages (from kiwisolver>=1.0.1->matplotlib->fastai) (40.6.2)\n",
      "Installing collected packages: fastai\n",
      "  Found existing installation: fastai 1.0.50.post1\n",
      "    Uninstalling fastai-1.0.50.post1:\n",
      "      Successfully uninstalled fastai-1.0.50.post1\n",
      "Successfully installed fastai-1.0.54\n"
     ]
    }
   ],
   "source": [
    "!pip install -U fastai"
   ]
  },
  {
   "cell_type": "code",
   "execution_count": 4,
   "metadata": {},
   "outputs": [
    {
     "name": "stderr",
     "output_type": "stream",
     "text": [
      "  % Total    % Received % Xferd  Average Speed   Time    Time     Time  Current\n",
      "                                 Dload  Upload   Total   Spent    Left  Speed\n",
      "100   388    0   388    0     0   2010      0 --:--:-- --:--:-- --:--:--  2010\n",
      "100  290M    0  290M    0     0  7114k      0 --:--:--  0:00:41 --:--:-- 7542k\n"
     ]
    }
   ],
   "source": [
    "%%bash\n",
    "fileid=\"1tyjEaNwLGYNu93BR7p43soBvLXR_kZQW\"\n",
    "filename=\"sentiment_model.tgz\"\n",
    "curl -c ./cookie -s -L \"https://drive.google.com/uc?export=download&id=${fileid}\" > /dev/null\n",
    "curl -Lb ./cookie \"https://drive.google.com/uc?export=download&confirm=`awk '/download/ {print $NF}' ./cookie`&id=${fileid}\" -o ${filename}"
   ]
  },
  {
   "cell_type": "code",
   "execution_count": 6,
   "metadata": {},
   "outputs": [
    {
     "name": "stdout",
     "output_type": "stream",
     "text": [
      "305M\tsentiment_model.tgz\n"
     ]
    }
   ],
   "source": [
    "!du -h sentiment_model.tgz"
   ]
  },
  {
   "cell_type": "code",
   "execution_count": 7,
   "metadata": {},
   "outputs": [
    {
     "name": "stdout",
     "output_type": "stream",
     "text": [
      "x storage/sentiment/\n",
      "x storage/sentiment/models/\n",
      "x storage/sentiment/models/third.pth\n",
      "x storage/sentiment/data_clas.pkl\n"
     ]
    }
   ],
   "source": [
    "!tar xzvf sentiment_model.tgz"
   ]
  },
  {
   "cell_type": "code",
   "execution_count": 1,
   "metadata": {},
   "outputs": [],
   "source": [
    "from pathlib import Path\n",
    "from fastai.text import load_data, text_classifier_learner, AWD_LSTM\n",
    "bs=48\n",
    "path=Path('./storage/sentiment')\n",
    "data_clas = load_data(path, 'data_clas.pkl', bs=bs)\n",
    "learn = text_classifier_learner(data_clas, AWD_LSTM, drop_mult=0.5)\n"
   ]
  },
  {
   "cell_type": "code",
   "execution_count": 2,
   "metadata": {},
   "outputs": [
    {
     "data": {
      "text/plain": [
       "RNNLearner(data=TextClasDataBunch;\n",
       "\n",
       "Train: LabelList (17463 items)\n",
       "x: TextList\n",
       "xxbos xxmaj the submarine used was xxup not xxmaj xxunk ! ' xxmaj it ' was in fact two boats , xxup p614 and xxup p615 , both built for xxmaj turkey by xxmaj vickers xxmaj xxunk at xxmaj xxunk - in - xxmaj xxunk but kept hold of by the xxmaj royal xxmaj navy for the duration of the war . xxup p615 was sunk but xxup p614 was eventually delivered in 1945 . \n",
       " \n",
       "  xxmaj the confusion no doubt arose because someone looked up xxup xxunk ( as i did ) and found xxmaj xxunk ! xxmaj when in fact , the last digit of both xxup p614 and xxup p615 was in fact just painted out xxrep 4 . \n",
       " \n",
       "  xxmaj there are some extremely realistic moments in the film . xxmaj these xxmaj turkish boats were very similar to the s - class . xxmaj as no s - class submarines survive , the shots of them ( as xxup xxunk ) and of the depot ship \" xxmaj forth \" form part of an interesting record now , as well as an excellent film .,xxbos \" xxmaj curse of xxmaj monkey xxmaj island \" is a treasure ; in my opinion the series as a whole was the holy grail of adventure gaming , not to mention lucasarts . \n",
       " \n",
       "  xxmaj but to return to \" xxmaj curse , \" what s beautiful about xxup cmi is that its not afraid to be itself . xxmaj it does deviate from the first two but still remains faithful to the xxmaj ron xxmaj gilbert productions ( if only the same could be said about the 4th installment of the series ! ) . xxmaj the voice work is impeccable , with xxmaj dominic xxmaj xxunk playing our favorite protagonist xxmaj xxunk xxmaj xxunk . xxmaj the animation , while quite different than the classic xxunk characters , is done beautifully . xxmaj it really is just absolutely gorgeous . xxmaj and the music is fantastic ! xxmaj its never annoying and you never have the urge to turn it off . \n",
       " \n",
       "  xxmaj although i 'm not too big a fan of romance , the romantic scenes and themes are not at all overpowering . xxmaj they also have the rare ability to come off as sweet instead of cheesy . xxmaj that says a lot from a girl who routinely falls asleep during chick flicks . \n",
       " \n",
       "  xxmaj then , of course , is the classic xxup mi element of humor . xxup cmi is quite adept at delivering deadpan lines , altogether absurdist humor , and simply good fun . xxmaj gary xxmaj coleman makes a cameo as a budding young entrepreneur , and world events are discreetly xxunk at without stepping out of the bounds of the game . \n",
       " \n",
       "  xxmaj its not entirely fair to compare xxup cmi to xxup mi and xxup xxunk because it truly is in a realm of its own . xxmaj personally i can never find a favorite between the 3 as they all are quite different from each other . xxmaj however , if you want a swashbuckling good time with the flair of the classic series , i insist you give this game a shot . xxmaj you will xxup not be disappointed . \n",
       " \n",
       "  10 / 10 stars , hands down . \n",
       " \n",
       "  - xxmaj emily n,xxbos \" xxmaj radio xxmaj flyer \" is one of my most loved xxmaj american movies . \n",
       " \n",
       "  xxmaj the really great job of two boys , xxmaj joe xxmaj mazzello and xxmaj elija xxmaj wood , ( in spite of terrible performance of xxunk at the beginning and ending ... ) with marvellous script of xxunk and powerful and emotional directing of xxunk plus xxmaj absolutely xxmaj incredibly xxmaj peerless xxmaj music xxmaj score of xxunk allowed the \" xxmaj radio xxmaj flyer \" to win one of the first places in my family 's rating of movies . \n",
       " \n",
       "  xxmaj it 's so pity that that very good movie was xxunk by some movie critics . \n",
       " \n",
       "  i just ca n't help waiting to see it on xxup dvd .,xxbos i have to admit i have a particular penchant for the humor and story telling style of xxmaj british movies , though not all of course , succeed . \n",
       " \n",
       "  xxmaj this film made me think , and left me in the end with a quiet smile on my face . xxmaj its about character development and relationships , truth and lies , and whether love is sometimes simply not enough . xxmaj some very nicely understated acting from all the participants , especially the two leads , xxmaj tom xxmaj wilkinson and xxmaj emily xxmaj watson . \n",
       " \n",
       "  xxmaj there was a lot of fuss made about xxmaj gosford xxmaj park , but with this piece i feel xxmaj fellowes has actually produced a better movie , though it has not been a mainstream release . \n",
       " \n",
       "  xxmaj an intelligent mature story about real people who are undeniably flawed , but also capable of acts of genuine xxunk .,xxbos xxmaj while its not the masterpiece that \" xxmaj le xxmaj samourai \" was ( i 've accepted by now that xxmaj jean - xxmaj pierre xxmaj melville was never able to top that classic ) , i find \" xxmaj le xxmaj cercle xxmaj rouge \" to be much better than \" xxmaj bob le flambeur \" . i felt that \" xxmaj bob le flambeur \" was an above - average and influential b - film , but still a b - film . \" xxmaj le xxmaj cercle xxmaj rouge \" proves that as a filmmaker xxmaj melville improved as he continued . xxmaj john xxmaj woo is a massive fan of xxmaj melville , even though their film - making style differs . xxmaj while xxmaj woo uses fast - motion for shootouts and an operatic sense of violence , xxmaj melville has a minimalist style that suits him very well . xxmaj he was n't interested in creating quickly paced action films but more meditative crime thrillers . xxmaj in that department , he was one of the best . \n",
       " \n",
       "  \" xxmaj le xxmaj samourai \" is still his best work , mainly because it has more character development than this , but on a technical level they 're probably equal . xxmaj besides , while \" xxmaj le xxmaj samourai \" had one great lead performance , this has four . xxmaj alain xxmaj delon is once again an ultra - cool gangster on the prowl - this man 's silence is fascinating . xxmaj bourvil is superb as the police inspector on the case of the heist and escaped con . xxmaj he steals every scene he is in , and proves that he was a skilled dramatic actor ( in xxmaj france he is best known as a slapstick comedian in the mode of xxmaj buster xxmaj keaton ) . xxmaj yves xxmaj montand is great also as the shaky and paranoid gun expert . xxmaj gian xxmaj maria xxmaj volontè ( a regular in spaghetti westerns ) is overshadowed by his three co - stars but still does an adequate job . \n",
       " \n",
       "  xxmaj once again , xxmaj melville 's direction is superb . xxmaj taking equal influence from both xxmaj american crime thrillers and the xxmaj french new wave , the man always seems to know the best shots and angles to choose . xxmaj this is more slowly - paced than most caper flicks , but it really pays off by the end . \" xxmaj le xxmaj cercle xxmaj rouge \" is a bit short of being an absolute classic , but is still one of the best heist flicks ever made . xxmaj tarantino must 've seen this before making \" xxmaj reservoir xxmaj dogs \" . ( 8 / 10 )\n",
       "y: CategoryList\n",
       "pos,pos,pos,pos,pos\n",
       "Path: /storage/imdb;\n",
       "\n",
       "Valid: LabelList (0 items)\n",
       "x: TextList\n",
       "\n",
       "y: CategoryList\n",
       "\n",
       "Path: /storage/imdb;\n",
       "\n",
       "Test: None, model=SequentialRNN(\n",
       "  (0): MultiBatchEncoder(\n",
       "    (module): AWD_LSTM(\n",
       "      (encoder): Embedding(30832, 400, padding_idx=1)\n",
       "      (encoder_dp): EmbeddingDropout(\n",
       "        (emb): Embedding(30832, 400, padding_idx=1)\n",
       "      )\n",
       "      (rnns): ModuleList(\n",
       "        (0): WeightDropout(\n",
       "          (module): LSTM(400, 1152, batch_first=True)\n",
       "        )\n",
       "        (1): WeightDropout(\n",
       "          (module): LSTM(1152, 1152, batch_first=True)\n",
       "        )\n",
       "        (2): WeightDropout(\n",
       "          (module): LSTM(1152, 400, batch_first=True)\n",
       "        )\n",
       "      )\n",
       "      (input_dp): RNNDropout()\n",
       "      (hidden_dps): ModuleList(\n",
       "        (0): RNNDropout()\n",
       "        (1): RNNDropout()\n",
       "        (2): RNNDropout()\n",
       "      )\n",
       "    )\n",
       "  )\n",
       "  (1): PoolingLinearClassifier(\n",
       "    (layers): Sequential(\n",
       "      (0): BatchNorm1d(1200, eps=1e-05, momentum=0.1, affine=True, track_running_stats=True)\n",
       "      (1): Dropout(p=0.2)\n",
       "      (2): Linear(in_features=1200, out_features=50, bias=True)\n",
       "      (3): ReLU(inplace)\n",
       "      (4): BatchNorm1d(50, eps=1e-05, momentum=0.1, affine=True, track_running_stats=True)\n",
       "      (5): Dropout(p=0.1)\n",
       "      (6): Linear(in_features=50, out_features=2, bias=True)\n",
       "    )\n",
       "  )\n",
       "), opt_func=functools.partial(<class 'torch.optim.adam.Adam'>, betas=(0.9, 0.99)), loss_func=FlattenedLoss of CrossEntropyLoss(), metrics=[<function accuracy at 0x1a2237cd90>], true_wd=True, bn_wd=True, wd=0.01, train_bn=True, path=PosixPath('storage/sentiment'), model_dir='models', callback_fns=[functools.partial(<class 'fastai.basic_train.Recorder'>, add_time=True, silent=False)], callbacks=[RNNTrainer\n",
       "learn: RNNLearner(data=TextClasDataBunch;\n",
       "\n",
       "Train: LabelList (17463 items)\n",
       "x: TextList\n",
       "xxbos xxmaj the submarine used was xxup not xxmaj xxunk ! ' xxmaj it ' was in fact two boats , xxup p614 and xxup p615 , both built for xxmaj turkey by xxmaj vickers xxmaj xxunk at xxmaj xxunk - in - xxmaj xxunk but kept hold of by the xxmaj royal xxmaj navy for the duration of the war . xxup p615 was sunk but xxup p614 was eventually delivered in 1945 . \n",
       " \n",
       "  xxmaj the confusion no doubt arose because someone looked up xxup xxunk ( as i did ) and found xxmaj xxunk ! xxmaj when in fact , the last digit of both xxup p614 and xxup p615 was in fact just painted out xxrep 4 . \n",
       " \n",
       "  xxmaj there are some extremely realistic moments in the film . xxmaj these xxmaj turkish boats were very similar to the s - class . xxmaj as no s - class submarines survive , the shots of them ( as xxup xxunk ) and of the depot ship \" xxmaj forth \" form part of an interesting record now , as well as an excellent film .,xxbos \" xxmaj curse of xxmaj monkey xxmaj island \" is a treasure ; in my opinion the series as a whole was the holy grail of adventure gaming , not to mention lucasarts . \n",
       " \n",
       "  xxmaj but to return to \" xxmaj curse , \" what s beautiful about xxup cmi is that its not afraid to be itself . xxmaj it does deviate from the first two but still remains faithful to the xxmaj ron xxmaj gilbert productions ( if only the same could be said about the 4th installment of the series ! ) . xxmaj the voice work is impeccable , with xxmaj dominic xxmaj xxunk playing our favorite protagonist xxmaj xxunk xxmaj xxunk . xxmaj the animation , while quite different than the classic xxunk characters , is done beautifully . xxmaj it really is just absolutely gorgeous . xxmaj and the music is fantastic ! xxmaj its never annoying and you never have the urge to turn it off . \n",
       " \n",
       "  xxmaj although i 'm not too big a fan of romance , the romantic scenes and themes are not at all overpowering . xxmaj they also have the rare ability to come off as sweet instead of cheesy . xxmaj that says a lot from a girl who routinely falls asleep during chick flicks . \n",
       " \n",
       "  xxmaj then , of course , is the classic xxup mi element of humor . xxup cmi is quite adept at delivering deadpan lines , altogether absurdist humor , and simply good fun . xxmaj gary xxmaj coleman makes a cameo as a budding young entrepreneur , and world events are discreetly xxunk at without stepping out of the bounds of the game . \n",
       " \n",
       "  xxmaj its not entirely fair to compare xxup cmi to xxup mi and xxup xxunk because it truly is in a realm of its own . xxmaj personally i can never find a favorite between the 3 as they all are quite different from each other . xxmaj however , if you want a swashbuckling good time with the flair of the classic series , i insist you give this game a shot . xxmaj you will xxup not be disappointed . \n",
       " \n",
       "  10 / 10 stars , hands down . \n",
       " \n",
       "  - xxmaj emily n,xxbos \" xxmaj radio xxmaj flyer \" is one of my most loved xxmaj american movies . \n",
       " \n",
       "  xxmaj the really great job of two boys , xxmaj joe xxmaj mazzello and xxmaj elija xxmaj wood , ( in spite of terrible performance of xxunk at the beginning and ending ... ) with marvellous script of xxunk and powerful and emotional directing of xxunk plus xxmaj absolutely xxmaj incredibly xxmaj peerless xxmaj music xxmaj score of xxunk allowed the \" xxmaj radio xxmaj flyer \" to win one of the first places in my family 's rating of movies . \n",
       " \n",
       "  xxmaj it 's so pity that that very good movie was xxunk by some movie critics . \n",
       " \n",
       "  i just ca n't help waiting to see it on xxup dvd .,xxbos i have to admit i have a particular penchant for the humor and story telling style of xxmaj british movies , though not all of course , succeed . \n",
       " \n",
       "  xxmaj this film made me think , and left me in the end with a quiet smile on my face . xxmaj its about character development and relationships , truth and lies , and whether love is sometimes simply not enough . xxmaj some very nicely understated acting from all the participants , especially the two leads , xxmaj tom xxmaj wilkinson and xxmaj emily xxmaj watson . \n",
       " \n",
       "  xxmaj there was a lot of fuss made about xxmaj gosford xxmaj park , but with this piece i feel xxmaj fellowes has actually produced a better movie , though it has not been a mainstream release . \n",
       " \n",
       "  xxmaj an intelligent mature story about real people who are undeniably flawed , but also capable of acts of genuine xxunk .,xxbos xxmaj while its not the masterpiece that \" xxmaj le xxmaj samourai \" was ( i 've accepted by now that xxmaj jean - xxmaj pierre xxmaj melville was never able to top that classic ) , i find \" xxmaj le xxmaj cercle xxmaj rouge \" to be much better than \" xxmaj bob le flambeur \" . i felt that \" xxmaj bob le flambeur \" was an above - average and influential b - film , but still a b - film . \" xxmaj le xxmaj cercle xxmaj rouge \" proves that as a filmmaker xxmaj melville improved as he continued . xxmaj john xxmaj woo is a massive fan of xxmaj melville , even though their film - making style differs . xxmaj while xxmaj woo uses fast - motion for shootouts and an operatic sense of violence , xxmaj melville has a minimalist style that suits him very well . xxmaj he was n't interested in creating quickly paced action films but more meditative crime thrillers . xxmaj in that department , he was one of the best . \n",
       " \n",
       "  \" xxmaj le xxmaj samourai \" is still his best work , mainly because it has more character development than this , but on a technical level they 're probably equal . xxmaj besides , while \" xxmaj le xxmaj samourai \" had one great lead performance , this has four . xxmaj alain xxmaj delon is once again an ultra - cool gangster on the prowl - this man 's silence is fascinating . xxmaj bourvil is superb as the police inspector on the case of the heist and escaped con . xxmaj he steals every scene he is in , and proves that he was a skilled dramatic actor ( in xxmaj france he is best known as a slapstick comedian in the mode of xxmaj buster xxmaj keaton ) . xxmaj yves xxmaj montand is great also as the shaky and paranoid gun expert . xxmaj gian xxmaj maria xxmaj volontè ( a regular in spaghetti westerns ) is overshadowed by his three co - stars but still does an adequate job . \n",
       " \n",
       "  xxmaj once again , xxmaj melville 's direction is superb . xxmaj taking equal influence from both xxmaj american crime thrillers and the xxmaj french new wave , the man always seems to know the best shots and angles to choose . xxmaj this is more slowly - paced than most caper flicks , but it really pays off by the end . \" xxmaj le xxmaj cercle xxmaj rouge \" is a bit short of being an absolute classic , but is still one of the best heist flicks ever made . xxmaj tarantino must 've seen this before making \" xxmaj reservoir xxmaj dogs \" . ( 8 / 10 )\n",
       "y: CategoryList\n",
       "pos,pos,pos,pos,pos\n",
       "Path: /storage/imdb;\n",
       "\n",
       "Valid: LabelList (0 items)\n",
       "x: TextList\n",
       "\n",
       "y: CategoryList\n",
       "\n",
       "Path: /storage/imdb;\n",
       "\n",
       "Test: None, model=SequentialRNN(\n",
       "  (0): MultiBatchEncoder(\n",
       "    (module): AWD_LSTM(\n",
       "      (encoder): Embedding(30832, 400, padding_idx=1)\n",
       "      (encoder_dp): EmbeddingDropout(\n",
       "        (emb): Embedding(30832, 400, padding_idx=1)\n",
       "      )\n",
       "      (rnns): ModuleList(\n",
       "        (0): WeightDropout(\n",
       "          (module): LSTM(400, 1152, batch_first=True)\n",
       "        )\n",
       "        (1): WeightDropout(\n",
       "          (module): LSTM(1152, 1152, batch_first=True)\n",
       "        )\n",
       "        (2): WeightDropout(\n",
       "          (module): LSTM(1152, 400, batch_first=True)\n",
       "        )\n",
       "      )\n",
       "      (input_dp): RNNDropout()\n",
       "      (hidden_dps): ModuleList(\n",
       "        (0): RNNDropout()\n",
       "        (1): RNNDropout()\n",
       "        (2): RNNDropout()\n",
       "      )\n",
       "    )\n",
       "  )\n",
       "  (1): PoolingLinearClassifier(\n",
       "    (layers): Sequential(\n",
       "      (0): BatchNorm1d(1200, eps=1e-05, momentum=0.1, affine=True, track_running_stats=True)\n",
       "      (1): Dropout(p=0.2)\n",
       "      (2): Linear(in_features=1200, out_features=50, bias=True)\n",
       "      (3): ReLU(inplace)\n",
       "      (4): BatchNorm1d(50, eps=1e-05, momentum=0.1, affine=True, track_running_stats=True)\n",
       "      (5): Dropout(p=0.1)\n",
       "      (6): Linear(in_features=50, out_features=2, bias=True)\n",
       "    )\n",
       "  )\n",
       "), opt_func=functools.partial(<class 'torch.optim.adam.Adam'>, betas=(0.9, 0.99)), loss_func=FlattenedLoss of CrossEntropyLoss(), metrics=[<function accuracy at 0x1a2237cd90>], true_wd=True, bn_wd=True, wd=0.01, train_bn=True, path=PosixPath('storage/sentiment'), model_dir='models', callback_fns=[functools.partial(<class 'fastai.basic_train.Recorder'>, add_time=True, silent=False)], callbacks=[...], layer_groups=[Sequential(\n",
       "  (0): Embedding(30832, 400, padding_idx=1)\n",
       "  (1): EmbeddingDropout(\n",
       "    (emb): Embedding(30832, 400, padding_idx=1)\n",
       "  )\n",
       "), Sequential(\n",
       "  (0): WeightDropout(\n",
       "    (module): LSTM(400, 1152, batch_first=True)\n",
       "  )\n",
       "  (1): RNNDropout()\n",
       "), Sequential(\n",
       "  (0): WeightDropout(\n",
       "    (module): LSTM(1152, 1152, batch_first=True)\n",
       "  )\n",
       "  (1): RNNDropout()\n",
       "), Sequential(\n",
       "  (0): WeightDropout(\n",
       "    (module): LSTM(1152, 400, batch_first=True)\n",
       "  )\n",
       "  (1): RNNDropout()\n",
       "), Sequential(\n",
       "  (0): PoolingLinearClassifier(\n",
       "    (layers): Sequential(\n",
       "      (0): BatchNorm1d(1200, eps=1e-05, momentum=0.1, affine=True, track_running_stats=True)\n",
       "      (1): Dropout(p=0.2)\n",
       "      (2): Linear(in_features=1200, out_features=50, bias=True)\n",
       "      (3): ReLU(inplace)\n",
       "      (4): BatchNorm1d(50, eps=1e-05, momentum=0.1, affine=True, track_running_stats=True)\n",
       "      (5): Dropout(p=0.1)\n",
       "      (6): Linear(in_features=50, out_features=2, bias=True)\n",
       "    )\n",
       "  )\n",
       ")], add_time=True, silent=None)\n",
       "alpha: 2.0\n",
       "beta: 1.0], layer_groups=[Sequential(\n",
       "  (0): Embedding(30832, 400, padding_idx=1)\n",
       "  (1): EmbeddingDropout(\n",
       "    (emb): Embedding(30832, 400, padding_idx=1)\n",
       "  )\n",
       "), Sequential(\n",
       "  (0): WeightDropout(\n",
       "    (module): LSTM(400, 1152, batch_first=True)\n",
       "  )\n",
       "  (1): RNNDropout()\n",
       "), Sequential(\n",
       "  (0): WeightDropout(\n",
       "    (module): LSTM(1152, 1152, batch_first=True)\n",
       "  )\n",
       "  (1): RNNDropout()\n",
       "), Sequential(\n",
       "  (0): WeightDropout(\n",
       "    (module): LSTM(1152, 400, batch_first=True)\n",
       "  )\n",
       "  (1): RNNDropout()\n",
       "), Sequential(\n",
       "  (0): PoolingLinearClassifier(\n",
       "    (layers): Sequential(\n",
       "      (0): BatchNorm1d(1200, eps=1e-05, momentum=0.1, affine=True, track_running_stats=True)\n",
       "      (1): Dropout(p=0.2)\n",
       "      (2): Linear(in_features=1200, out_features=50, bias=True)\n",
       "      (3): ReLU(inplace)\n",
       "      (4): BatchNorm1d(50, eps=1e-05, momentum=0.1, affine=True, track_running_stats=True)\n",
       "      (5): Dropout(p=0.1)\n",
       "      (6): Linear(in_features=50, out_features=2, bias=True)\n",
       "    )\n",
       "  )\n",
       ")], add_time=True, silent=None)"
      ]
     },
     "execution_count": 2,
     "metadata": {},
     "output_type": "execute_result"
    }
   ],
   "source": [
    "learn.load('third')"
   ]
  },
  {
   "cell_type": "code",
   "execution_count": 3,
   "metadata": {},
   "outputs": [
    {
     "data": {
      "text/plain": [
       "SequentialRNN(\n",
       "  (0): MultiBatchEncoder(\n",
       "    (module): AWD_LSTM(\n",
       "      (encoder): Embedding(30832, 400, padding_idx=1)\n",
       "      (encoder_dp): EmbeddingDropout(\n",
       "        (emb): Embedding(30832, 400, padding_idx=1)\n",
       "      )\n",
       "      (rnns): ModuleList(\n",
       "        (0): WeightDropout(\n",
       "          (module): LSTM(400, 1152, batch_first=True)\n",
       "        )\n",
       "        (1): WeightDropout(\n",
       "          (module): LSTM(1152, 1152, batch_first=True)\n",
       "        )\n",
       "        (2): WeightDropout(\n",
       "          (module): LSTM(1152, 400, batch_first=True)\n",
       "        )\n",
       "      )\n",
       "      (input_dp): RNNDropout()\n",
       "      (hidden_dps): ModuleList(\n",
       "        (0): RNNDropout()\n",
       "        (1): RNNDropout()\n",
       "        (2): RNNDropout()\n",
       "      )\n",
       "    )\n",
       "  )\n",
       "  (1): PoolingLinearClassifier(\n",
       "    (layers): Sequential(\n",
       "      (0): BatchNorm1d(1200, eps=1e-05, momentum=0.1, affine=True, track_running_stats=True)\n",
       "      (1): Dropout(p=0.2)\n",
       "      (2): Linear(in_features=1200, out_features=50, bias=True)\n",
       "      (3): ReLU(inplace)\n",
       "      (4): BatchNorm1d(50, eps=1e-05, momentum=0.1, affine=True, track_running_stats=True)\n",
       "      (5): Dropout(p=0.1)\n",
       "      (6): Linear(in_features=50, out_features=2, bias=True)\n",
       "    )\n",
       "  )\n",
       ")"
      ]
     },
     "execution_count": 3,
     "metadata": {},
     "output_type": "execute_result"
    }
   ],
   "source": [
    "learn.model.eval()"
   ]
  },
  {
   "cell_type": "code",
   "execution_count": 4,
   "metadata": {},
   "outputs": [
    {
     "data": {
      "text/plain": [
       "(Category neg, tensor(0), tensor([0.9005, 0.0995]))"
      ]
     },
     "execution_count": 4,
     "metadata": {},
     "output_type": "execute_result"
    }
   ],
   "source": [
    "learn.predict('''Well you see. Puerto Rico has a long history of adding an extra tax on fruit loops. Because of this, plenty of concerned citizens have tried to contact the federal government to get this deemed illegal and a gross misconduct of justice.\n",
    "They citizens believe that it they can become a state, they can get Puerto Rico to lift the tax on fruit loops so they can enjoy the cereal without breaking the bank. After all, the boxes of fruit loops are now so expensive that many stores aren't even carrying them, let alone being cheap enough for most people to afford.\n",
    "And as we all know here, theres nothing worse than being out of the loops.''')"
   ]
  },
  {
   "cell_type": "code",
   "execution_count": null,
   "metadata": {},
   "outputs": [],
   "source": []
  },
  {
   "cell_type": "markdown",
   "metadata": {},
   "source": [
    "# Add step to the pipeline"
   ]
  },
  {
   "cell_type": "code",
   "execution_count": 16,
   "metadata": {},
   "outputs": [],
   "source": [
    "import redis\n",
    "r = redis.Redis()\n",
    "sub = r.pubsub(ignore_subscribe_messages=True)"
   ]
  },
  {
   "cell_type": "code",
   "execution_count": 17,
   "metadata": {},
   "outputs": [],
   "source": [
    "def process_message(msg:str):\n",
    "    print(msg[:20].lower())"
   ]
  },
  {
   "cell_type": "code",
   "execution_count": 25,
   "metadata": {},
   "outputs": [],
   "source": [
    "sub.subscribe(['comments'])"
   ]
  },
  {
   "cell_type": "code",
   "execution_count": null,
   "metadata": {},
   "outputs": [],
   "source": [
    "for post in sub.listen():\n",
    "    print(post)\n",
    "#     r.publish('processed', process_message(post))"
   ]
  }
 ],
 "metadata": {
  "kernelspec": {
   "display_name": "Python 3",
   "language": "python",
   "name": "python3"
  },
  "language_info": {
   "codemirror_mode": {
    "name": "ipython",
    "version": 3
   },
   "file_extension": ".py",
   "mimetype": "text/x-python",
   "name": "python",
   "nbconvert_exporter": "python",
   "pygments_lexer": "ipython3",
   "version": "3.6.7"
  }
 },
 "nbformat": 4,
 "nbformat_minor": 2
}
